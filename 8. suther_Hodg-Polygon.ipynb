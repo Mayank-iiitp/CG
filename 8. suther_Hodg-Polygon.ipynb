{
 "cells": [
  {
   "cell_type": "code",
   "execution_count": 1,
   "id": "083273bf",
   "metadata": {},
   "outputs": [
    {
     "name": "stdout",
     "output_type": "stream",
     "text": [
      "Enter xMin: 150\n",
      "Enter yMin: 150\n",
      "Enter xMax: 350\n",
      "Enter yMax: 350\n",
      "Enter the number of points: 5\n",
      "Enter Point 1:  100 120\n",
      "Enter Point 2: 220 250\n",
      "Enter Point 3: 330 320\n",
      "Enter Point 4: 380 400\n",
      "Enter Point 5: 420 450\n"
     ]
    },
    {
     "data": {
      "image/png": "[encoded data removed]",
      "text/plain": [
       "<Figure size 432x288 with 1 Axes>"
      ]
     },
     "metadata": {
      "needs_background": "light"
     },
     "output_type": "display_data"
    }
   ],
   "source": [
    "import matplotlib.pyplot as plt\n",
    "\n",
    "# function to check if a point is inside or outside the clip edge\n",
    "def inside(p, cp1, cp2):\n",
    "    return (cp2[0]-cp1[0])*(p[1]-cp1[1]) > (cp2[1]-cp1[1])*(p[0]-cp1[0])\n",
    "\n",
    "# function to compute intersection point of two edges\n",
    "def computeIntersection(cp1, cp2, s, e):\n",
    "    dc = [cp1[0] - cp2[0], cp1[1] - cp2[1]]\n",
    "    dp = [s[0] - e[0], s[1] - e[1]]\n",
    "    n1 = cp1[0] * cp2[1] - cp1[1] * cp2[0]\n",
    "    n2 = s[0] * e[1] - s[1] * e[0]\n",
    "    n3 = 1.0 / (dc[0] * dp[1] - dc[1] * dp[0])\n",
    "    # using determinants to compute intersection point\n",
    "    return [(n1*dp[0] - n2*dc[0]) * n3, (n1*dp[1] - n2*dc[1]) * n3]\n",
    "\n",
    "# main function for Sutherland-Hodgman algorithm\n",
    "def sutherlandHodgman(subject_polygon, clip_polygon):\n",
    "    output_list = subject_polygon\n",
    "    cp1 = clip_polygon[-1]\n",
    "    for clip_vertex in clip_polygon:\n",
    "        cp2 = clip_vertex\n",
    "        input_list = output_list\n",
    "        output_list = []\n",
    "        s = input_list[-1]\n",
    "        for subject_vertex in input_list:\n",
    "            e = subject_vertex\n",
    "            if inside(e, cp1, cp2):\n",
    "                if not inside(s, cp1, cp2):\n",
    "                    # if the edge intersects the clip edge, compute intersection point\n",
    "                    output_list.append(computeIntersection(cp1, cp2, s, e))\n",
    "                output_list.append(e)\n",
    "            elif inside(s, cp1, cp2):\n",
    "                # if the edge exits the clip edge, compute intersection point\n",
    "                output_list.append(computeIntersection(cp1, cp2, s, e))\n",
    "            s = e\n",
    "        cp1 = cp2\n",
    "    return output_list\n",
    "\n",
    "# getting input from user\n",
    "x_min = int(input(\"Enter xMin: \"))\n",
    "y_min = int(input(\"Enter yMin: \"))\n",
    "x_max = int(input(\"Enter xMax: \"))\n",
    "y_max = int(input(\"Enter yMax: \"))\n",
    "\n",
    "# defining the clip polygon as a rectangle\n",
    "clip_polygon = [[x_min, y_min], [x_max, y_min], [x_max, y_max], [x_min, y_max]]\n",
    "\n",
    "n = int(input(\"Enter the number of points: \"))\n",
    "subject_polygon = []\n",
    "for i in range(n):\n",
    "    x, y = map(int, input(f\"Enter Point {i + 1}: \").split())\n",
    "    subject_polygon.append([x, y])\n",
    "subject_polygon.append(subject_polygon[0])\n",
    "\n",
    "# applying Sutherland-Hodgman algorithm to clip the subject polygon\n",
    "clipped_polygon = sutherlandHodgman(subject_polygon, clip_polygon)\n",
    "\n",
    "# plotting the original clipping rectangle, the original subject polygon, and the clipped polygon\n",
    "x = [x_min, x_max, x_max, x_min, x_min]\n",
    "y = [y_min, y_min, y_max, y_max, y_min]\n",
    "\n",
    "fig, ax = plt.subplots()\n",
    "ax.set_aspect('equal')\n",
    "ax.plot(x, y, 'r--', label='Clipping Window')\n",
    "\n",
    "ax.plot(*zip(*subject_polygon), 'bo-', label='Subject Polygon')\n",
    "ax.plot(*zip(*clipped_polygon), 'k-', label='Clipped Polygon')\n",
    "ax.legend()\n",
    "plt.show()\n"
   ]
  },
  {
   "cell_type": "code",
   "execution_count": null,
   "id": "6b5caacc",
   "metadata": {},
   "outputs": [],
   "source": []
  }
 ],
 "metadata": {
  "kernelspec": {
   "display_name": "Python 3 (ipykernel)",
   "language": "python",
   "name": "python3"
  },
  "language_info": {
   "codemirror_mode": {
    "name": "ipython",
    "version": 3
   },
   "file_extension": ".py",
   "mimetype": "text/x-python",
   "name": "python",
   "nbconvert_exporter": "python",
   "pygments_lexer": "ipython3",
   "version": "3.9.12"
  }
 },
 "nbformat": 4,
 "nbformat_minor": 5
}
