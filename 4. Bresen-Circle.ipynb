{
 "cells": [
  {
   "cell_type": "code",
   "execution_count": 1,
   "id": "776e8880",
   "metadata": {},
   "outputs": [
    {
     "name": "stdout",
     "output_type": "stream",
     "text": [
      "Enter the x-coordinate of the center of the circle: 50\n",
      "Enter the y-coordinate of the center of the circle: 100\n",
      "Enter the radius of the circle: 150\n"
     ]
    },
    {
     "data": {
      "image/png": "[encoded data removed]",
      "text/plain": [
       "<Figure size 432x288 with 1 Axes>"
      ]
     },
     "metadata": {
      "needs_background": "light"
     },
     "output_type": "display_data"
    }
   ],
   "source": [
    "import matplotlib.pyplot as plt\n",
    "\n",
    "def bresenham_circle(center_x, center_y, radius):\n",
    "    x = 0\n",
    "    y = radius\n",
    "    d = 3 - 2 * radius\n",
    "    points = set()\n",
    "    \n",
    "    while x <= y:\n",
    "        points.add((x + center_x, y + center_y))\n",
    "        points.add((y + center_x, x + center_y))\n",
    "        points.add((-x + center_x, y + center_y))\n",
    "        points.add((-y + center_x, x + center_y))\n",
    "        points.add((-x + center_x, -y + center_y))\n",
    "        points.add((-y + center_x, -x + center_y))\n",
    "        points.add((x + center_x, -y + center_y))\n",
    "        points.add((y + center_x, -x + center_y))\n",
    "        \n",
    "        if d < 0:\n",
    "            d = d + 4 * x + 6\n",
    "        else:\n",
    "            d = d + 4 * (x - y) + 10\n",
    "            y -= 1\n",
    "        \n",
    "        x += 1\n",
    "    \n",
    "    return points\n",
    "\n",
    "# Taking input from the user\n",
    "center_x = int(input(\"Enter the x-coordinate of the center of the circle: \"))\n",
    "center_y = int(input(\"Enter the y-coordinate of the center of the circle: \"))\n",
    "radius = int(input(\"Enter the radius of the circle: \"))\n",
    "\n",
    "# Drawing the circle using Bresenham's Circle Drawing Algorithm\n",
    "points = bresenham_circle(center_x, center_y, radius)\n",
    "\n",
    "# Converting the set of points into separate lists of x and y coordinates\n",
    "x_values, y_values = zip(*points)\n",
    "\n",
    "# Plotting the circle on a graph\n",
    "fig, ax = plt.subplots()\n",
    "ax.set_aspect('equal')\n",
    "ax.scatter(x_values, y_values, s=10)\n",
    "plt.title(\"Bresenham's Circle Drawing Algorithm\")\n",
    "plt.xlabel(\"X-axis\")\n",
    "plt.ylabel(\"Y-axis\")\n",
    "plt.show()\n"
   ]
  },
  {
   "cell_type": "code",
   "execution_count": null,
   "id": "ff5614a2",
   "metadata": {},
   "outputs": [],
   "source": []
  }
 ],
 "metadata": {
  "kernelspec": {
   "display_name": "Python 3 (ipykernel)",
   "language": "python",
   "name": "python3"
  },
  "language_info": {
   "codemirror_mode": {
    "name": "ipython",
    "version": 3
   },
   "file_extension": ".py",
   "mimetype": "text/x-python",
   "name": "python",
   "nbconvert_exporter": "python",
   "pygments_lexer": "ipython3",
   "version": "3.9.12"
  }
 },
 "nbformat": 4,
 "nbformat_minor": 5
}
