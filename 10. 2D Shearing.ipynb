{
 "cells": [
  {
   "cell_type": "code",
   "execution_count": 1,
   "id": "008288e8",
   "metadata": {},
   "outputs": [
    {
     "name": "stdout",
     "output_type": "stream",
     "text": [
      "Enter the number of sides of the polygon: 4\n",
      "Enter the x, y coordinates of vertex 1: 100 100\n",
      "Enter the x, y coordinates of vertex 2: 100 200\n",
      "Enter the x, y coordinates of vertex 3: 200 200\n",
      "Enter the x, y coordinates of vertex 4: 200 100\n",
      "Enter the shear factor (in x direction): 3\n",
      "Enter the shear factor (in y direction): 0\n"
     ]
    },
    {
     "data": {
      "image/png": "[encoded data removed]",
      "text/plain": [
       "<Figure size 432x288 with 1 Axes>"
      ]
     },
     "metadata": {
      "needs_background": "light"
     },
     "output_type": "display_data"
    }
   ],
   "source": [
    "import matplotlib.pyplot as plt\n",
    "\n",
    "# Input number of sides of the polygon\n",
    "n = int(input(\"Enter the number of sides of the polygon: \"))\n",
    "\n",
    "# Input coordinates of the polygon vertices\n",
    "vertices = []\n",
    "for i in range(n):\n",
    "    x, y = map(int, input(\n",
    "        \"Enter the x, y coordinates of vertex {}: \".format(i+1)).split())\n",
    "    vertices.append([x, y])\n",
    "\n",
    "# Append the first vertex again to the end to complete the polygon\n",
    "vertices.append(vertices[0])\n",
    "\n",
    "# Extract the x and y coordinates separately\n",
    "x_coords = [v[0] for v in vertices]\n",
    "y_coords = [v[1] for v in vertices]\n",
    "\n",
    "# Plot the original polygon and its coordinates\n",
    "plt.plot(x_coords, y_coords, label=\"Original\")\n",
    "for i, vertex in enumerate(vertices[:-1]):\n",
    "    plt.text(vertex[0], vertex[1], f\"({vertex[0]},{vertex[1]})\", fontsize=8)\n",
    "\n",
    "shear_x = float(input(\"Enter the shear factor (in x direction): \"))\n",
    "shear_y = float(input(\"Enter the shear factor (in y direction): \"))\n",
    "sheared_vertices = [[x + y*shear_x, y + x*shear_y] for [x, y] in vertices]\n",
    "\n",
    "# Extract the x and y coordinates separately\n",
    "sheared_x_coords = [v[0] for v in sheared_vertices]\n",
    "sheared_y_coords = [v[1] for v in sheared_vertices]\n",
    "\n",
    "plt.plot(sheared_x_coords, sheared_y_coords, label=\"Sheared\")\n",
    "for i, vertex in enumerate(sheared_vertices[:-1]):\n",
    "    plt.text(vertex[0], vertex[1],\n",
    "             f\"({vertex[0]:.2f},{vertex[1]:.2f})\", fontsize=8)\n",
    "\n",
    "# Set the aspect ratio to 'equal' for a square plot\n",
    "plt.axis('equal')\n",
    "\n",
    "plt.legend()\n",
    "plt.title(\"Polygon and its Sheared Version\")\n",
    "\n",
    "plt.show()\n"
   ]
  },
  {
   "cell_type": "code",
   "execution_count": null,
   "id": "f9b66cdb",
   "metadata": {},
   "outputs": [],
   "source": []
  }
 ],
 "metadata": {
  "kernelspec": {
   "display_name": "Python 3 (ipykernel)",
   "language": "python",
   "name": "python3"
  },
  "language_info": {
   "codemirror_mode": {
    "name": "ipython",
    "version": 3
   },
   "file_extension": ".py",
   "mimetype": "text/x-python",
   "name": "python",
   "nbconvert_exporter": "python",
   "pygments_lexer": "ipython3",
   "version": "3.9.12"
  }
 },
 "nbformat": 4,
 "nbformat_minor": 5
}
