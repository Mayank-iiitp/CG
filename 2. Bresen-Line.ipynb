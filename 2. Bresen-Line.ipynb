{
 "cells": [
  {
   "cell_type": "code",
   "execution_count": 4,
   "id": "493a28ab",
   "metadata": {},
   "outputs": [
    {
     "name": "stdout",
     "output_type": "stream",
     "text": [
      "Enter the value of x1: 6\n",
      "Enter the value of y1: 7\n",
      "Enter the value of x2: 11\n",
      "Enter the value of y2: 12\n",
      "(7, 8)\n",
      "(8, 9)\n",
      "(9, 10)\n",
      "(10, 11)\n",
      "(11, 12)\n"
     ]
    },
    {
     "data": {
      "image/png": "[encoded data removed]",
      "text/plain": [
       "<Figure size 432x288 with 1 Axes>"
      ]
     },
     "metadata": {
      "needs_background": "light"
     },
     "output_type": "display_data"
    }
   ],
   "source": [
    "import matplotlib.pyplot as plt\n",
    "\n",
    "def bresenham_line(x1, y1, x2, y2):\n",
    "    dx = x2 - x1\n",
    "    dy = y2 - y1\n",
    "    x = x1\n",
    "    y = y1\n",
    "    x_inc = 1 if dx > 0 else -1\n",
    "    y_inc = 1 if dy > 0 else -1\n",
    "    dx = abs(dx)\n",
    "    dy = abs(dy)\n",
    "    if dx > dy:\n",
    "        ai = (dy - dx) * 2\n",
    "        bi = dy * 2\n",
    "        d = bi - dx\n",
    "        while x != x2:\n",
    "            if d >= 0:\n",
    "                y += y_inc\n",
    "                d += ai\n",
    "            else:\n",
    "                d += bi\n",
    "            x += x_inc\n",
    "            yield x, y\n",
    "    else:\n",
    "        ai = (dx - dy) * 2\n",
    "        bi = dx * 2\n",
    "        d = bi - dy\n",
    "        while y != y2:\n",
    "            if d >= 0:\n",
    "                x += x_inc\n",
    "                d += ai\n",
    "            else:\n",
    "                d += bi\n",
    "            y += y_inc\n",
    "            yield x, y\n",
    "\n",
    "# Taking input from the user\n",
    "x1 = int(input(\"Enter the value of x1: \"))\n",
    "y1 = int(input(\"Enter the value of y1: \"))\n",
    "x2 = int(input(\"Enter the value of x2: \"))\n",
    "y2 = int(input(\"Enter the value of y2: \"))\n",
    "for x, y in bresenham_line(x1, y1, x2, y2):\n",
    "    print(f\"({x}, {y})\")\n",
    "# Drawing the line using Bresenham's algorithm\n",
    "x_values = []\n",
    "y_values = []\n",
    "for x, y in bresenham_line(x1, y1, x2, y2):\n",
    "    x_values.append(x)\n",
    "    y_values.append(y)\n",
    "\n",
    "# Plotting the line on a graph\n",
    "plt.plot(x_values, y_values)\n",
    "plt.title(\"Bresenham's Line Drawing Algorithm\")\n",
    "plt.xlabel(\"X-axis\")\n",
    "plt.ylabel(\"Y-axis\")\n",
    "plt.show()"
   ]
  },
  {
   "cell_type": "code",
   "execution_count": null,
   "id": "92c34a8e",
   "metadata": {},
   "outputs": [],
   "source": []
  }
 ],
 "metadata": {
  "kernelspec": {
   "display_name": "Python 3 (ipykernel)",
   "language": "python",
   "name": "python3"
  },
  "language_info": {
   "codemirror_mode": {
    "name": "ipython",
    "version": 3
   },
   "file_extension": ".py",
   "mimetype": "text/x-python",
   "name": "python",
   "nbconvert_exporter": "python",
   "pygments_lexer": "ipython3",
   "version": "3.9.12"
  }
 },
 "nbformat": 4,
 "nbformat_minor": 5
}
