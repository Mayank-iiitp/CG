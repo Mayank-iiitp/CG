{
 "cells": [
  {
   "cell_type": "code",
   "execution_count": 1,
   "id": "5e9bac97",
   "metadata": {},
   "outputs": [
    {
     "name": "stdout",
     "output_type": "stream",
     "text": [
      "Enter the value of x1: \n",
      "6\n",
      "Enter the value of x2: \n",
      "10\n",
      "Enter the value of y1: \n",
      "7\n",
      "Enter the value of y2: \n",
      "9\n",
      "X1:  7.0 Y1:  7.5\n",
      "X1:  8.0 Y1:  8.0\n",
      "X1:  9.0 Y1:  8.5\n",
      "X1:  10.0 Y1:  9.0\n"
     ]
    },
    {
     "data": {
      "image/png": "[encoded data removed]",
      "text/plain": [
       "<Figure size 432x288 with 1 Axes>"
      ]
     },
     "metadata": {
      "needs_background": "light"
     },
     "output_type": "display_data"
    }
   ],
   "source": [
    "import matplotlib.pyplot as plt\n",
    "print(\"Enter the value of x1: \")\n",
    "x1 = int(input())\n",
    "print(\"Enter the value of x2: \")\n",
    "x2 = int(input())\n",
    "print(\"Enter the value of y1: \")\n",
    "y1 = int(input())\n",
    "print(\"Enter the value of y2: \")\n",
    "y2 = int(input())\n",
    "\n",
    "dx = x2 - x1\n",
    "dy = y2 - y1\n",
    "\n",
    "if abs(dx) > abs(dy):\n",
    "    steps = abs(dx)\n",
    "else:\n",
    "    steps = abs(dy)\n",
    "\n",
    "xincrement = dx/steps\n",
    "yincrement = dy/steps\n",
    "\n",
    "i = 0\n",
    "\n",
    "xcoordinates = []\n",
    "ycoordinates = []\n",
    "\n",
    "\n",
    "while i < steps:\n",
    "    i +=1\n",
    "    x1 = x1 + xincrement\n",
    "    y1 = y1 + yincrement\n",
    "    print(\"X1: \",x1, \"Y1: \", y1)\n",
    "    xcoordinates.append(x1)\n",
    "    ycoordinates.append(y1)\n",
    "\n",
    "plt.plot(xcoordinates, ycoordinates)\n",
    "\n",
    "#Naming the Axis\n",
    "plt.xlabel(\"X-Axis\")\n",
    "plt.ylabel(\"Y-Axis\")\n",
    "\n",
    "#Graph title\n",
    "plt.title(\"DDA Algorithm\")\n",
    "\n",
    "#show the plot\n",
    "\n",
    "plt.show()"
   ]
  },
  {
   "cell_type": "code",
   "execution_count": null,
   "id": "addadf4d",
   "metadata": {},
   "outputs": [],
   "source": []
  }
 ],
 "metadata": {
  "kernelspec": {
   "display_name": "Python 3 (ipykernel)",
   "language": "python",
   "name": "python3"
  },
  "language_info": {
   "codemirror_mode": {
    "name": "ipython",
    "version": 3
   },
   "file_extension": ".py",
   "mimetype": "text/x-python",
   "name": "python",
   "nbconvert_exporter": "python",
   "pygments_lexer": "ipython3",
   "version": "3.9.12"
  }
 },
 "nbformat": 4,
 "nbformat_minor": 5
}
