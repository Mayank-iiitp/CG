{
 "cells": [
  {
   "cell_type": "code",
   "execution_count": 1,
   "id": "acf2bb9a",
   "metadata": {},
   "outputs": [
    {
     "name": "stdout",
     "output_type": "stream",
     "text": [
      "Enter x_min: 220\n",
      "Enter x_max: 550\n",
      "Enter y_min: 220\n",
      "Enter y_max: 550\n",
      "Enter no of points to clip: 4\n",
      "Enter x coordinate: 230\n",
      "Enter y coordinate: 230\n",
      "Inside the clipping window\n",
      "Enter x coordinate: 450\n",
      "Enter y coordinate: 130\n",
      "Outside the clipping window\n",
      "Enter x coordinate: 680\n",
      "Enter y coordinate: 730\n",
      "Outside the clipping window\n",
      "Enter x coordinate: 200\n",
      "Enter y coordinate: 550\n",
      "Outside the clipping window\n"
     ]
    },
    {
     "data": {
      "image/png": "[encoded data removed]",
      "text/plain": [
       "<Figure size 432x288 with 1 Axes>"
      ]
     },
     "metadata": {
      "needs_background": "light"
     },
     "output_type": "display_data"
    }
   ],
   "source": [
    "\n",
    "import matplotlib.pyplot as plt\n",
    "\n",
    "\n",
    "def point_clipping(x, y, x_min, x_max, y_min, y_max):\n",
    "    if(x_min <= x <= x_max) and (y_min <= y <= y_max):\n",
    "        plt.plot(x, y, '.r')\n",
    "        print(\"Inside the clipping window\")\n",
    "    else:\n",
    "        plt.plot(x, y, '.r')\n",
    "        print(\"Outside the clipping window\")\n",
    "\n",
    "\n",
    "def main():\n",
    "    x_min = float(input(\"Enter x_min: \"))\n",
    "    x_max = int(input(\"Enter x_max: \"))\n",
    "    y_min = int(input(\"Enter y_min: \"))\n",
    "    y_max = int(input(\"Enter y_max: \"))\n",
    "\n",
    "    n = int(input(\"Enter no of points to clip: \"))\n",
    "    plt.plot([x_min, y_min], [x_min, y_max], 'yellow')\n",
    "    plt.plot([x_min, y_max], [x_max, y_max], 'yellow')\n",
    "    plt.plot([x_max, y_max], [x_max, y_min], 'yellow')\n",
    "    plt.plot([x_max, y_min], [x_min, y_min], 'yellow')\n",
    "\n",
    "    plt.title(\"Point Clipping Algorithm\")\n",
    "    plt.xlabel(\"X coordinates\")\n",
    "    plt.ylabel(\"Y coordinates\")\n",
    "\n",
    "    for i in range(n):\n",
    "        x = int(input(\"Enter x coordinate: \"))\n",
    "        y = int(input(\"Enter y coordinate: \"))\n",
    "        point_clipping(x, y, x_min, x_max, y_min, y_max)\n",
    "\n",
    "    plt.axis('scaled')\n",
    "    plt.show()\n",
    "\n",
    "\n",
    "if __name__ == \"__main__\":\n",
    "    main()\n",
    "\n"
   ]
  },
  {
   "cell_type": "code",
   "execution_count": null,
   "id": "661e463e",
   "metadata": {},
   "outputs": [],
   "source": []
  }
 ],
 "metadata": {
  "kernelspec": {
   "display_name": "Python 3 (ipykernel)",
   "language": "python",
   "name": "python3"
  },
  "language_info": {
   "codemirror_mode": {
    "name": "ipython",
    "version": 3
   },
   "file_extension": ".py",
   "mimetype": "text/x-python",
   "name": "python",
   "nbconvert_exporter": "python",
   "pygments_lexer": "ipython3",
   "version": "3.9.12"
  }
 },
 "nbformat": 4,
 "nbformat_minor": 5
}
