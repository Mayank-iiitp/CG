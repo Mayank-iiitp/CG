{
 "cells": [
  {
   "cell_type": "code",
   "execution_count": 2,
   "id": "2001c637",
   "metadata": {},
   "outputs": [
    {
     "name": "stdout",
     "output_type": "stream",
     "text": [
      "Enter Coordinate xMin : 100\n",
      "Enter Coordinate yMin : 200\n",
      "Enter Coordinate xMax : 500\n",
      "Enter Coordinate yMax : 600\n",
      "Enter Coordinate  x1 : 50\n",
      "Enter Coordinate  y1 : 250\n",
      "Enter Coordinate  x2 : 600\n",
      "Enter Coordinate  y2 : 300\n"
     ]
    },
    {
     "data": {
      "image/png": "[encoded data removed]",
      "text/plain": [
       "<Figure size 432x288 with 1 Axes>"
      ]
     },
     "metadata": {
      "needs_background": "light"
     },
     "output_type": "display_data"
    }
   ],
   "source": [
    "# Liang-Barsky Line Clipping algorithm\n",
    "import matplotlib.pyplot as plt\n",
    "\n",
    "def liangBarsky(x1, y1, x2, y2, xmin, ymin, xmax, ymax):\n",
    "    # calculate differences\n",
    "    dx = x2 - x1\n",
    "    dy = y2 - y1\n",
    "    # initialize p and q arrays\n",
    "    p = [-dx, dx, -dy, dy]\n",
    "    q = [x1 - xmin, xmax - x1, y1 - ymin, ymax - y1]\n",
    "    # initialize u1 and u2\n",
    "    u1 = 0\n",
    "    u2 = 1\n",
    "    # loop through all edges of the clip window\n",
    "    for i in range(4):\n",
    "        # handle parallel lines\n",
    "        if p[i] == 0:\n",
    "            if q[i] < 0:\n",
    "                return None\n",
    "        else:\n",
    "            # calculate u value\n",
    "            u = q[i] / p[i]\n",
    "            # check u values and update u1 and u2\n",
    "            if p[i] < 0 and u > u1:\n",
    "                u1 = u\n",
    "            elif p[i] > 0 and u < u2:\n",
    "                u2 = u\n",
    "            # handle invalid lines\n",
    "            if u1 > u2:\n",
    "                return None\n",
    "            # calculate new coordinates of line\n",
    "            new_x1 = x1 + u1 * dx\n",
    "            new_y1 = y1 + u1 * dy\n",
    "            new_x2 = x1 + u2 * dx\n",
    "            new_y2 = y1 + u2 * dy\n",
    "\n",
    "    # plot the valid and clipped lines\n",
    "    plt.plot([x1, x2], [y1, y2], color='blue', label='Valid Line')\n",
    "    plt.plot([new_x1, new_x2], [new_y1, new_y2],\n",
    "             color='red', label='Clipped Line')\n",
    "    # plot the clip window\n",
    "    plt.plot([xmin, xmin, xmax, xmax, xmin], [ymin, ymax, ymax, ymin, ymin],\n",
    "             color='black', label='Clip Window')\n",
    "    # plot the intersection points if exists\n",
    "    if u1 > 0:\n",
    "        plt.scatter(new_x1, new_y1, color='red',\n",
    "                    label='Intersection Point:({: .2f}, {: .2f})'.format(new_x1, new_y1))\n",
    "    if u2 < 1:\n",
    "        plt.scatter(new_x2, new_y2, color='red',\n",
    "                    label='Intersection Point:({: .2f}, {: .2f})'.format(new_x2, new_y2))\n",
    "    # add labels and title to the plot\n",
    "    plt.legend()\n",
    "    plt.title('Liang-Barsky Clipping Algorithm')\n",
    "    plt.xlabel('X-axis')\n",
    "    plt.ylabel('Y-axis')\n",
    "    # show the plot\n",
    "    plt.show()\n",
    "    # return the new coordinates of the line\n",
    "    return (new_x1, new_y1, new_x2, new_y2)\n",
    "\n",
    "\n",
    "def main():\n",
    "    # get user input for the clip window and line\n",
    "    xMin = int(input(\"Enter Coordinate xMin : \"))\n",
    "    yMin = int(input(\"Enter Coordinate yMin : \"))\n",
    "    xMax = int(input(\"Enter Coordinate xMax : \"))\n",
    "    yMax = int(input(\"Enter Coordinate yMax : \"))\n",
    "    x1 = float(input(\"Enter Coordinate  x1 : \"))\n",
    "    y1 = float(input(\"Enter Coordinate  y1 : \"))\n",
    "    x2 = float(input(\"Enter Coordinate  x2 : \"))\n",
    "    y2 = float(input(\"Enter Coordinate  y2 : \"))\n",
    "    liangBarsky(x1, y1, x2, y2, xMin, yMin, xMax, yMax)\n",
    "    plt.show()\n",
    "\n",
    "if __name__ == \"__main__\":\n",
    "    main()\n"
   ]
  },
  {
   "cell_type": "code",
   "execution_count": null,
   "id": "a8358bb2",
   "metadata": {},
   "outputs": [],
   "source": []
  }
 ],
 "metadata": {
  "kernelspec": {
   "display_name": "Python 3 (ipykernel)",
   "language": "python",
   "name": "python3"
  },
  "language_info": {
   "codemirror_mode": {
    "name": "ipython",
    "version": 3
   },
   "file_extension": ".py",
   "mimetype": "text/x-python",
   "name": "python",
   "nbconvert_exporter": "python",
   "pygments_lexer": "ipython3",
   "version": "3.9.12"
  }
 },
 "nbformat": 4,
 "nbformat_minor": 5
}
